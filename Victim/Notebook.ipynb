{
 "cells": [
  {
   "cell_type": "markdown",
   "id": "6f0eaa71-deed-48b3-94c8-657195eed920",
   "metadata": {},
   "source": [
    "ATTACKS PROJECT NOTEBOOK"
   ]
  },
  {
   "cell_type": "code",
   "execution_count": null,
   "id": "8cbabf12-6d9e-4b0b-a2e1-d6145e22460c",
   "metadata": {},
   "outputs": [],
   "source": [
    "#Import of the necessary modules\n",
    "import pandas as pd\n",
    "import matplotlib.pyplot as plt\n",
    "import requests\n",
    "import cartopy.crs as ccrs\n",
    "import time\n",
    "import cartopy.feature"
   ]
  },
  {
   "cell_type": "code",
   "execution_count": null,
   "id": "e3a33d4c-6e16-4b1e-8f7a-b75f68456426",
   "metadata": {},
   "outputs": [],
   "source": [
    "df_attacks = pd.read_csv('attack_logs.csv')"
   ]
  },
  {
   "cell_type": "markdown",
   "id": "7d8afc7e-770b-411c-9ff6-73c9a15186ab",
   "metadata": {},
   "source": [
    "Where are the suspect IP addresses located?"
   ]
  },
  {
   "cell_type": "code",
   "execution_count": null,
   "id": "e480f1b7-797c-489b-a855-dcbb34a56634",
   "metadata": {},
   "outputs": [],
   "source": [
    "# CODE\n",
    "\n",
    "def get_ip_details(ip):\n",
    "    try:\n",
    "        response = requests.get(f\"http://ip-api.com/json/{ip}\")\n",
    "        df_attacks = response.json()\n",
    "        return {'IP': ip, 'Country': df_attacks['country'], 'Lat': df_attacks['lat'], 'Lon': df_attacks['lon']} if df_attacks['status'] == 'success' else None\n",
    "    except requests.RequestException:\n",
    "        return None\n",
    "\n",
    "unique_ips = df_attacks['Source IP'].unique()\n",
    "\n",
    "# GET DETAILS FOR EACH IP\n",
    "ip_details = []\n",
    "for ip in unique_ips:\n",
    "    details = get_ip_details(ip)\n",
    "    if details:\n",
    "        ip_details.append(details)\n",
    "    time.sleep(1)\n",
    "\n",
    "details_df = pd.DataFrame(ip_details)\n",
    "\n",
    "# MAP CREATION WITH CARTOPY\n",
    "plt.figure(figsize=(12, 8))\n",
    "ax = plt.axes(projection=ccrs.PlateCarree())\n",
    "ax.coastlines()\n",
    "ax.add_feature(cartopy.feature.BORDERS)\n",
    "\n",
    "# PLOTTING OF EACH IP LOCATION\n",
    "for _, row in details_df.iterrows():\n",
    "    ax.plot(row['Lon'], row['Lat'], 'bo', markersize=5)\n",
    "    plt.text(row['Lon'], row['Lat'], row['IP'], fontsize=8, ha='right', transform=ccrs.Geodetic())\n",
    "\n",
    "plt.title('Suspect IP Addresses Locations')\n",
    "plt.show()"
   ]
  },
  {
   "cell_type": "markdown",
   "id": "fad5a3d0-1e52-40a0-a7f5-d9366871fd49",
   "metadata": {},
   "source": [
    "What is the attack that generated more packets?"
   ]
  },
  {
   "cell_type": "code",
   "execution_count": null,
   "id": "c6fde2d1-8942-4ea2-b110-8a7898dbd0b9",
   "metadata": {},
   "outputs": [],
   "source": [
    "# CODE\n",
    "\n",
    "most_packets_attack = df_attacks['Attack Type'].value_counts().idxmax()\n",
    "attack_counts = df_attacks['Attack Type'].value_counts()"
   ]
  },
  {
   "cell_type": "code",
   "execution_count": null,
   "id": "3122e577-64f6-4949-9556-a1eae2f338d4",
   "metadata": {},
   "outputs": [],
   "source": [
    "# ANSWER\n",
    "\n",
    "print(f\"The attack that generated more packets: {most_packets_attack}\")"
   ]
  },
  {
   "cell_type": "code",
   "execution_count": null,
   "id": "c6b1b523-c2e2-4f46-8487-98cd89d6a7e2",
   "metadata": {},
   "outputs": [],
   "source": [
    "# PLOT\n",
    "\n",
    "plt.figure(figsize=(12, 6))\n",
    "bars = plt.bar(attack_counts.index, attack_counts.values, color='lightgray')\n",
    "\n",
    "for bar in bars:\n",
    "    if bar.get_x() + bar.get_width() / 2 == attack_counts.index.get_loc(most_packets_attack):\n",
    "        bar.set_color('orange')\n",
    "\n",
    "plt.title('Attack Types by Number of Packets', fontsize=16)\n",
    "plt.xlabel('Attack Type', fontsize=14)\n",
    "plt.ylabel('Packet Count', fontsize=14)\n",
    "plt.xticks(rotation=45, ha='right')\n",
    "plt.grid(axis='y')\n",
    "\n",
    "plt.tight_layout()\n",
    "plt.show()"
   ]
  },
  {
   "cell_type": "markdown",
   "id": "1b72ce8b-b077-41c1-b771-41f5fccf9c52",
   "metadata": {},
   "source": [
    "What is the attack that generated the largest traffic in terms of bytes?"
   ]
  },
  {
   "cell_type": "code",
   "execution_count": null,
   "id": "021358b0-311e-48c3-8949-129184dc0fc2",
   "metadata": {},
   "outputs": [],
   "source": [
    "# CODE\n",
    "\n",
    "traffic_summary = df_attacks.groupby('Attack Type')['Packet Size'].sum()\n",
    "\n",
    "most_traffic_attack = traffic_summary.idxmax()\n",
    "most_traffic_size = traffic_summary.max()"
   ]
  },
  {
   "cell_type": "code",
   "execution_count": null,
   "id": "70179536-6f07-4601-8277-655af221a1f8",
   "metadata": {},
   "outputs": [],
   "source": [
    "# ANSWER\n",
    "\n",
    "print(f\"The attack that generated the largest traffic: {most_traffic_attack} ({most_traffic_size} bytes)\")"
   ]
  },
  {
   "cell_type": "code",
   "execution_count": null,
   "id": "11f05b4a-5694-4707-b4d6-12b0bc9e2891",
   "metadata": {},
   "outputs": [],
   "source": [
    "# PLOT\n",
    "\n",
    "plt.figure(figsize=(12, 6))\n",
    "bars = plt.bar(traffic_summary.index, traffic_summary.values, color='lightgray')\n",
    "\n",
    "for bar in bars:\n",
    "    if bar.get_x() + bar.get_width() / 2 == traffic_summary.index.get_loc(most_traffic_attack):\n",
    "        bar.set_color('orange')\n",
    "\n",
    "plt.title('Attack Types by Total Traffic', fontsize=16)\n",
    "plt.xlabel('Attack Type', fontsize=14)\n",
    "plt.ylabel('Total Traffic (Bytes)', fontsize=14)\n",
    "plt.xticks(rotation=45, ha='right')\n",
    "plt.grid(axis='y')\n",
    "\n",
    "plt.tight_layout()\n",
    "plt.show()\n"
   ]
  }
 ],
 "metadata": {
  "kernelspec": {
   "display_name": "Python 3 (ipykernel)",
   "language": "python",
   "name": "python3"
  },
  "language_info": {
   "codemirror_mode": {
    "name": "ipython",
    "version": 3
   },
   "file_extension": ".py",
   "mimetype": "text/x-python",
   "name": "python",
   "nbconvert_exporter": "python",
   "pygments_lexer": "ipython3",
   "version": "3.11.2"
  }
 },
 "nbformat": 4,
 "nbformat_minor": 5
}
